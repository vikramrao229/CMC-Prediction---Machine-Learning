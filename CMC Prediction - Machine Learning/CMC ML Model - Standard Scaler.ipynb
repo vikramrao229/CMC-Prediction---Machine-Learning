{
 "cells": [
  {
   "cell_type": "code",
   "execution_count": 1,
   "id": "c4449808",
   "metadata": {},
   "outputs": [
    {
     "name": "stdout",
     "output_type": "stream",
     "text": [
      "     Serial No.  Surfactant No.        Charge           Surfactant Name  \\\n",
      "0             1             1.0       Anionic  Sodium Dodecyl 1 Sulfate   \n",
      "1             2             NaN       Anionic  Sodium Dodecyl 1 Sulfate   \n",
      "2             3             2.0       Anionic    Sodium Octyl 1 Sulfate   \n",
      "3             4             NaN       Anionic    Sodium Octyl 1 Sulfate   \n",
      "4             5             3.0       Anionic    Sodium Decyl 1 Sulfate   \n",
      "..          ...             ...           ...                       ...   \n",
      "262         263           256.0  Zwitterionic  C12H25N+(CH3)2(CH2)5COO−   \n",
      "263         264           257.0  Zwitterionic  C12H25N+(CH3)2(CH2)7COO−   \n",
      "264         265           258.0  Zwitterionic     C8H17CH(COO-)N+(CH3)3   \n",
      "265         266           259.0  Zwitterionic    C10H21CH(COO-)N+(CH3)3   \n",
      "266         267           260.0  Zwitterionic    C12H25CH(COO-)N+(CH3)3   \n",
      "\n",
      "    Formula                   Head Group  \\\n",
      "0       NaN                      Sulfate   \n",
      "1       NaN                      Sulfate   \n",
      "2       NaN                      Sulfate   \n",
      "3       NaN                      Sulfate   \n",
      "4       NaN                      Sulfate   \n",
      "..      ...                          ...   \n",
      "262     NaN  Quaternary ammonium acetate   \n",
      "263     NaN  Quaternary ammonium acetate   \n",
      "264     NaN  Quaternary ammonium acetate   \n",
      "265     NaN  Quaternary ammonium acetate   \n",
      "266     NaN  Quaternary ammonium acetate   \n",
      "\n",
      "                      SMILES Representation  Temp (oC)  CMC (M)  -log CMC  \\\n",
      "0          CCCCCCCCCCCCOS(=O)(=O)[O-].[Na+]         20  0.00847  2.072117   \n",
      "1          CCCCCCCCCCCCOS(=O)(=O)[O-].[Na+]         25  0.00830  2.080922   \n",
      "2              CCCCCCCCOS(=O)(=O)[O-].[Na+]         20  0.13370  0.873869   \n",
      "3              CCCCCCCCOS(=O)(=O)[O-].[Na+]         25  0.13030  0.885056   \n",
      "4            CCCCCCCCCCOS(=O)(=O)[O-].[Na+]         20  0.03350  1.474955   \n",
      "..                                      ...        ...      ...       ...   \n",
      "262    CCCCCCCCCCCC[N+](C)(C)CCCCCC(=O)[O-]         25  0.00260  2.585027   \n",
      "263  CCCCCCCCCCCC[N+](C)(C)CCCCCCCC(=O)[O-]         25  0.00150  2.823909   \n",
      "264         CCCCCCCCC(C(=O)[O-])[N+](C)(C)C         27  0.09700  1.013228   \n",
      "265       CCCCCCCCCCC(C(=O)[O-])[N+](C)(C)C         27  0.01300  1.886057   \n",
      "266     CCCCCCCCCCCCC(C(=O)[O-])[N+](C)(C)C         27  0.00130  2.886057   \n",
      "\n",
      "     2^-log(CMC)  \n",
      "0       9.742062  \n",
      "1       9.836760  \n",
      "2       2.611808  \n",
      "3       2.644106  \n",
      "4       5.055132  \n",
      "..           ...  \n",
      "262    17.114774  \n",
      "263    22.250864  \n",
      "264     3.043917  \n",
      "265     7.941046  \n",
      "266    23.823138  \n",
      "\n",
      "[267 rows x 11 columns]\n"
     ]
    }
   ],
   "source": [
    "#Importing the dataframe from Excel\n",
    "\n",
    "import pandas as pd\n",
    "\n",
    "df=pd.read_excel('C:/Users/vikra/.spyder-py3/CMC Database.xlsx', sheet_name = 'Sheet4', header=0)\n",
    "\n",
    "print(df)"
   ]
  },
  {
   "cell_type": "code",
   "execution_count": 3,
   "id": "90352bb8",
   "metadata": {},
   "outputs": [
    {
     "data": {
      "text/plain": [
       "['Charge',\n",
       " 'Temp (oC)',\n",
       " 'Serial No.',\n",
       " 'Formula',\n",
       " 'CMC (M)',\n",
       " 'Head Group',\n",
       " 'Surfactant No.',\n",
       " '2^-log(CMC)',\n",
       " 'SMILES Representation',\n",
       " 'Surfactant Name']"
      ]
     },
     "execution_count": 3,
     "metadata": {},
     "output_type": "execute_result"
    }
   ],
   "source": [
    "# Identify target column (output). For this example, wine quality is the target property\n",
    "target = ['-log CMC']\n",
    "# Identify features (inputs)\n",
    "features = (list(set(list(df.columns))-set(target)))\n",
    "# Print features\n",
    "features"
   ]
  },
  {
   "cell_type": "code",
   "execution_count": 4,
   "id": "67bf60ac",
   "metadata": {},
   "outputs": [
    {
     "data": {
      "text/plain": [
       "['Serial No.',\n",
       " 'Surfactant No.',\n",
       " 'Charge',\n",
       " 'Surfactant Name',\n",
       " 'Formula',\n",
       " 'Head Group',\n",
       " 'SMILES Representation',\n",
       " 'Temp (oC)',\n",
       " 'CMC (M)',\n",
       " '-log CMC',\n",
       " '2^-log(CMC)']"
      ]
     },
     "execution_count": 4,
     "metadata": {},
     "output_type": "execute_result"
    }
   ],
   "source": [
    "headers = df.columns.tolist()\n",
    "headers"
   ]
  },
  {
   "cell_type": "code",
   "execution_count": 5,
   "id": "497f1d7e",
   "metadata": {},
   "outputs": [
    {
     "data": {
      "text/html": [
       "<div>\n",
       "<style scoped>\n",
       "    .dataframe tbody tr th:only-of-type {\n",
       "        vertical-align: middle;\n",
       "    }\n",
       "\n",
       "    .dataframe tbody tr th {\n",
       "        vertical-align: top;\n",
       "    }\n",
       "\n",
       "    .dataframe thead th {\n",
       "        text-align: right;\n",
       "    }\n",
       "</style>\n",
       "<table border=\"1\" class=\"dataframe\">\n",
       "  <thead>\n",
       "    <tr style=\"text-align: right;\">\n",
       "      <th></th>\n",
       "      <th>SMILES Representation</th>\n",
       "      <th>Temp (oC)</th>\n",
       "      <th>-log CMC</th>\n",
       "    </tr>\n",
       "  </thead>\n",
       "  <tbody>\n",
       "    <tr>\n",
       "      <th>0</th>\n",
       "      <td>CCCCCCCCCCCCOS(=O)(=O)[O-].[Na+]</td>\n",
       "      <td>20</td>\n",
       "      <td>2.072117</td>\n",
       "    </tr>\n",
       "    <tr>\n",
       "      <th>1</th>\n",
       "      <td>CCCCCCCCCCCCOS(=O)(=O)[O-].[Na+]</td>\n",
       "      <td>25</td>\n",
       "      <td>2.080922</td>\n",
       "    </tr>\n",
       "    <tr>\n",
       "      <th>2</th>\n",
       "      <td>CCCCCCCCOS(=O)(=O)[O-].[Na+]</td>\n",
       "      <td>20</td>\n",
       "      <td>0.873869</td>\n",
       "    </tr>\n",
       "    <tr>\n",
       "      <th>3</th>\n",
       "      <td>CCCCCCCCOS(=O)(=O)[O-].[Na+]</td>\n",
       "      <td>25</td>\n",
       "      <td>0.885056</td>\n",
       "    </tr>\n",
       "    <tr>\n",
       "      <th>4</th>\n",
       "      <td>CCCCCCCCCCOS(=O)(=O)[O-].[Na+]</td>\n",
       "      <td>20</td>\n",
       "      <td>1.474955</td>\n",
       "    </tr>\n",
       "    <tr>\n",
       "      <th>...</th>\n",
       "      <td>...</td>\n",
       "      <td>...</td>\n",
       "      <td>...</td>\n",
       "    </tr>\n",
       "    <tr>\n",
       "      <th>259</th>\n",
       "      <td>CCCCCCCCCCCC[N+](C)(C)CCCCCC(=O)[O-]</td>\n",
       "      <td>25</td>\n",
       "      <td>2.585027</td>\n",
       "    </tr>\n",
       "    <tr>\n",
       "      <th>260</th>\n",
       "      <td>CCCCCCCCCCCC[N+](C)(C)CCCCCCCC(=O)[O-]</td>\n",
       "      <td>25</td>\n",
       "      <td>2.823909</td>\n",
       "    </tr>\n",
       "    <tr>\n",
       "      <th>261</th>\n",
       "      <td>CCCCCCCCC(C(=O)[O-])[N+](C)(C)C</td>\n",
       "      <td>27</td>\n",
       "      <td>1.013228</td>\n",
       "    </tr>\n",
       "    <tr>\n",
       "      <th>262</th>\n",
       "      <td>CCCCCCCCCCC(C(=O)[O-])[N+](C)(C)C</td>\n",
       "      <td>27</td>\n",
       "      <td>1.886057</td>\n",
       "    </tr>\n",
       "    <tr>\n",
       "      <th>263</th>\n",
       "      <td>CCCCCCCCCCCCC(C(=O)[O-])[N+](C)(C)C</td>\n",
       "      <td>27</td>\n",
       "      <td>2.886057</td>\n",
       "    </tr>\n",
       "  </tbody>\n",
       "</table>\n",
       "<p>264 rows × 3 columns</p>\n",
       "</div>"
      ],
      "text/plain": [
       "                      SMILES Representation  Temp (oC)  -log CMC\n",
       "0          CCCCCCCCCCCCOS(=O)(=O)[O-].[Na+]         20  2.072117\n",
       "1          CCCCCCCCCCCCOS(=O)(=O)[O-].[Na+]         25  2.080922\n",
       "2              CCCCCCCCOS(=O)(=O)[O-].[Na+]         20  0.873869\n",
       "3              CCCCCCCCOS(=O)(=O)[O-].[Na+]         25  0.885056\n",
       "4            CCCCCCCCCCOS(=O)(=O)[O-].[Na+]         20  1.474955\n",
       "..                                      ...        ...       ...\n",
       "259    CCCCCCCCCCCC[N+](C)(C)CCCCCC(=O)[O-]         25  2.585027\n",
       "260  CCCCCCCCCCCC[N+](C)(C)CCCCCCCC(=O)[O-]         25  2.823909\n",
       "261         CCCCCCCCC(C(=O)[O-])[N+](C)(C)C         27  1.013228\n",
       "262       CCCCCCCCCCC(C(=O)[O-])[N+](C)(C)C         27  1.886057\n",
       "263     CCCCCCCCCCCCC(C(=O)[O-])[N+](C)(C)C         27  2.886057\n",
       "\n",
       "[264 rows x 3 columns]"
      ]
     },
     "execution_count": 5,
     "metadata": {},
     "output_type": "execute_result"
    }
   ],
   "source": [
    "#Creating dataset with only required data\n",
    "\n",
    "df2 = df.drop(df.columns[[0,1,2,3,4,5,8,10]], axis= 1)\n",
    "df2 = df2.drop([28,29,51])\n",
    "\n",
    "\n",
    "#df2 = df2.loc[130:135, :]\n",
    "df2 = df2.reset_index()\n",
    "df2 = df2.drop(['index'], axis= 1)\n",
    "\n",
    "df2"
   ]
  },
  {
   "cell_type": "code",
   "execution_count": 6,
   "id": "7002c0b3",
   "metadata": {},
   "outputs": [
    {
     "data": {
      "text/plain": [
       "SMILES Representation    0\n",
       "Temp (oC)                0\n",
       "-log CMC                 0\n",
       "dtype: int64"
      ]
     },
     "execution_count": 6,
     "metadata": {},
     "output_type": "execute_result"
    }
   ],
   "source": [
    "#Checks to see if there is any null values within each of the columns of the database.\n",
    "df2.isnull().sum()"
   ]
  },
  {
   "cell_type": "code",
   "execution_count": 7,
   "id": "d4e3fde0",
   "metadata": {},
   "outputs": [],
   "source": [
    "import numpy as np\n",
    "import rdkit as rd\n",
    "from rdkit import Chem, DataStructs, rdBase\n",
    "#draw the molecules\n",
    "from rdkit.Chem import Draw\n",
    "from rdkit.Chem.Draw import IPythonConsole\n",
    "\n",
    "from rdkit.Chem import Descriptors\n",
    "from rdkit.Chem import AllChem\n",
    "from rdkit.Chem import MACCSkeys\n",
    "from rdkit.Chem import AtomPairs\n",
    "from rdkit.Chem.AtomPairs.Pairs import GetAtomPairFingerprintAsBitVect"
   ]
  },
  {
   "cell_type": "code",
   "execution_count": 8,
   "id": "337c5c4f",
   "metadata": {},
   "outputs": [
    {
     "data": {
      "image/png": "[encoded data removed]",
      "text/plain": [
       "<rdkit.Chem.rdchem.Mol at 0x281ba0668f0>"
      ]
     },
     "execution_count": 8,
     "metadata": {},
     "output_type": "execute_result"
    }
   ],
   "source": [
    "smile = df2.iloc[0,0]\n",
    "mol = Chem.MolFromSmiles(smile)\n",
    "mol"
   ]
  },
  {
   "cell_type": "code",
   "execution_count": 9,
   "id": "9f52039a",
   "metadata": {},
   "outputs": [],
   "source": [
    "#Create a function that will convert the smiles into a morgan fingerprint\n",
    "def MoleculeGen(rad: int, dataframe: pd.DataFrame) -> pd.DataFrame:\n",
    "    #initilise empty lists for holding the mol drawings and morgan fingerprints\n",
    "    mol_list = []\n",
    "    fin_list = []\n",
    "    i = 0\n",
    "    \n",
    "    for smile in dataframe['SMILES Representation']:\n",
    "        i += 1\n",
    "        try:\n",
    "            #Generate the molecular drawing of the smile\n",
    "            mol = Chem.MolFromSmiles(smile)\n",
    "            mol_list.append(mol)\n",
    "            #Generate the morgan fingerprint of the smile in question\n",
    "            mf_bitvect = AllChem.GetMorganFingerprintAsBitVect(mol, radius= rad, nBits= 2**10)\n",
    "            #initialise a temporary array that will have the bit vector mapped onto to convert from bit vector to numpy array\\\n",
    "            #(this is because we can only use np arrays and not bit vectors within python)\n",
    "            temp = np.zeros((0,), dtype= np.int8)\n",
    "            DataStructs.ConvertToNumpyArray(mf_bitvect, temp)\n",
    "            fin_list.append(temp)\n",
    "           \n",
    "        except:\n",
    "            print(i, smile)\n",
    "    #convert the np array to a dataframe that we can then add to the main dataframe in question\n",
    "    fin_list = pd.DataFrame(fin_list)\n",
    "    #Add the fingerprint list to the main dataframe along the columns (axis = 1)\n",
    "    dataframe = pd.concat([dataframe, fin_list], axis= 1)\n",
    "    return dataframe"
   ]
  },
  {
   "cell_type": "code",
   "execution_count": 10,
   "id": "0ae08954",
   "metadata": {},
   "outputs": [
    {
     "name": "stderr",
     "output_type": "stream",
     "text": [
      "[19:58:00] DEPRECATION WARNING: please use MorganGenerator\n",
      "[19:58:00] DEPRECATION WARNING: please use MorganGenerator\n",
      "[19:58:00] DEPRECATION WARNING: please use MorganGenerator\n",
      "[19:58:00] DEPRECATION WARNING: please use MorganGenerator\n",
      "[19:58:00] DEPRECATION WARNING: please use MorganGenerator\n",
      "[19:58:00] DEPRECATION WARNING: please use MorganGenerator\n",
      "[19:58:00] DEPRECATION WARNING: please use MorganGenerator\n",
      "[19:58:00] DEPRECATION WARNING: please use MorganGenerator\n",
      "[19:58:00] DEPRECATION WARNING: please use MorganGenerator\n",
      "[19:58:00] DEPRECATION WARNING: please use MorganGenerator\n",
      "[19:58:00] DEPRECATION WARNING: please use MorganGenerator\n",
      "[19:58:00] DEPRECATION WARNING: please use MorganGenerator\n",
      "[19:58:00] DEPRECATION WARNING: please use MorganGenerator\n",
      "[19:58:00] DEPRECATION WARNING: please use MorganGenerator\n",
      "[19:58:00] DEPRECATION WARNING: please use MorganGenerator\n",
      "[19:58:00] DEPRECATION WARNING: please use MorganGenerator\n",
      "[19:58:00] DEPRECATION WARNING: please use MorganGenerator\n",
      "[19:58:00] DEPRECATION WARNING: please use MorganGenerator\n",
      "[19:58:00] DEPRECATION WARNING: please use MorganGenerator\n",
      "[19:58:00] DEPRECATION WARNING: please use MorganGenerator\n",
      "[19:58:00] DEPRECATION WARNING: please use MorganGenerator\n",
      "[19:58:00] DEPRECATION WARNING: please use MorganGenerator\n",
      "[19:58:00] DEPRECATION WARNING: please use MorganGenerator\n",
      "[19:58:00] DEPRECATION WARNING: please use MorganGenerator\n",
      "[19:58:00] DEPRECATION WARNING: please use MorganGenerator\n",
      "[19:58:00] DEPRECATION WARNING: please use MorganGenerator\n",
      "[19:58:00] DEPRECATION WARNING: please use MorganGenerator\n",
      "[19:58:00] DEPRECATION WARNING: please use MorganGenerator\n",
      "[19:58:00] DEPRECATION WARNING: please use MorganGenerator\n",
      "[19:58:00] DEPRECATION WARNING: please use MorganGenerator\n",
      "[19:58:00] DEPRECATION WARNING: please use MorganGenerator\n",
      "[19:58:00] DEPRECATION WARNING: please use MorganGenerator\n",
      "[19:58:00] DEPRECATION WARNING: please use MorganGenerator\n",
      "[19:58:00] DEPRECATION WARNING: please use MorganGenerator\n",
      "[19:58:00] DEPRECATION WARNING: please use MorganGenerator\n",
      "[19:58:00] DEPRECATION WARNING: please use MorganGenerator\n",
      "[19:58:00] DEPRECATION WARNING: please use MorganGenerator\n",
      "[19:58:00] DEPRECATION WARNING: please use MorganGenerator\n",
      "[19:58:00] DEPRECATION WARNING: please use MorganGenerator\n",
      "[19:58:00] DEPRECATION WARNING: please use MorganGenerator\n",
      "[19:58:00] DEPRECATION WARNING: please use MorganGenerator\n",
      "[19:58:00] DEPRECATION WARNING: please use MorganGenerator\n",
      "[19:58:00] DEPRECATION WARNING: please use MorganGenerator\n",
      "[19:58:00] DEPRECATION WARNING: please use MorganGenerator\n",
      "[19:58:00] DEPRECATION WARNING: please use MorganGenerator\n",
      "[19:58:00] DEPRECATION WARNING: please use MorganGenerator\n",
      "[19:58:00] DEPRECATION WARNING: please use MorganGenerator\n",
      "[19:58:00] DEPRECATION WARNING: please use MorganGenerator\n",
      "[19:58:00] DEPRECATION WARNING: please use MorganGenerator\n",
      "[19:58:00] DEPRECATION WARNING: please use MorganGenerator\n",
      "[19:58:00] DEPRECATION WARNING: please use MorganGenerator\n",
      "[19:58:00] DEPRECATION WARNING: please use MorganGenerator\n",
      "[19:58:00] DEPRECATION WARNING: please use MorganGenerator\n",
      "[19:58:00] DEPRECATION WARNING: please use MorganGenerator\n",
      "[19:58:00] DEPRECATION WARNING: please use MorganGenerator\n",
      "[19:58:00] DEPRECATION WARNING: please use MorganGenerator\n",
      "[19:58:00] DEPRECATION WARNING: please use MorganGenerator\n",
      "[19:58:00] DEPRECATION WARNING: please use MorganGenerator\n",
      "[19:58:00] DEPRECATION WARNING: please use MorganGenerator\n",
      "[19:58:00] DEPRECATION WARNING: please use MorganGenerator\n",
      "[19:58:00] DEPRECATION WARNING: please use MorganGenerator\n",
      "[19:58:00] DEPRECATION WARNING: please use MorganGenerator\n",
      "[19:58:00] DEPRECATION WARNING: please use MorganGenerator\n",
      "[19:58:00] DEPRECATION WARNING: please use MorganGenerator\n",
      "[19:58:00] DEPRECATION WARNING: please use MorganGenerator\n",
      "[19:58:00] DEPRECATION WARNING: please use MorganGenerator\n",
      "[19:58:00] DEPRECATION WARNING: please use MorganGenerator\n",
      "[19:58:00] DEPRECATION WARNING: please use MorganGenerator\n",
      "[19:58:00] DEPRECATION WARNING: please use MorganGenerator\n",
      "[19:58:00] DEPRECATION WARNING: please use MorganGenerator\n",
      "[19:58:00] DEPRECATION WARNING: please use MorganGenerator\n",
      "[19:58:00] DEPRECATION WARNING: please use MorganGenerator\n",
      "[19:58:00] DEPRECATION WARNING: please use MorganGenerator\n",
      "[19:58:00] DEPRECATION WARNING: please use MorganGenerator\n",
      "[19:58:00] DEPRECATION WARNING: please use MorganGenerator\n",
      "[19:58:00] DEPRECATION WARNING: please use MorganGenerator\n",
      "[19:58:00] DEPRECATION WARNING: please use MorganGenerator\n",
      "[19:58:00] DEPRECATION WARNING: please use MorganGenerator\n",
      "[19:58:00] DEPRECATION WARNING: please use MorganGenerator\n",
      "[19:58:00] DEPRECATION WARNING: please use MorganGenerator\n",
      "[19:58:00] DEPRECATION WARNING: please use MorganGenerator\n",
      "[19:58:00] DEPRECATION WARNING: please use MorganGenerator\n",
      "[19:58:00] DEPRECATION WARNING: please use MorganGenerator\n",
      "[19:58:00] DEPRECATION WARNING: please use MorganGenerator\n",
      "[19:58:00] DEPRECATION WARNING: please use MorganGenerator\n",
      "[19:58:00] DEPRECATION WARNING: please use MorganGenerator\n",
      "[19:58:00] DEPRECATION WARNING: please use MorganGenerator\n",
      "[19:58:00] DEPRECATION WARNING: please use MorganGenerator\n",
      "[19:58:00] DEPRECATION WARNING: please use MorganGenerator\n",
      "[19:58:00] DEPRECATION WARNING: please use MorganGenerator\n",
      "[19:58:00] DEPRECATION WARNING: please use MorganGenerator\n",
      "[19:58:00] DEPRECATION WARNING: please use MorganGenerator\n",
      "[19:58:00] DEPRECATION WARNING: please use MorganGenerator\n",
      "[19:58:00] DEPRECATION WARNING: please use MorganGenerator\n",
      "[19:58:00] DEPRECATION WARNING: please use MorganGenerator\n",
      "[19:58:00] DEPRECATION WARNING: please use MorganGenerator\n",
      "[19:58:00] DEPRECATION WARNING: please use MorganGenerator\n",
      "[19:58:00] DEPRECATION WARNING: please use MorganGenerator\n",
      "[19:58:00] DEPRECATION WARNING: please use MorganGenerator\n",
      "[19:58:00] DEPRECATION WARNING: please use MorganGenerator\n",
      "[19:58:00] DEPRECATION WARNING: please use MorganGenerator\n",
      "[19:58:00] DEPRECATION WARNING: please use MorganGenerator\n",
      "[19:58:00] DEPRECATION WARNING: please use MorganGenerator\n",
      "[19:58:00] DEPRECATION WARNING: please use MorganGenerator\n",
      "[19:58:00] DEPRECATION WARNING: please use MorganGenerator\n",
      "[19:58:00] DEPRECATION WARNING: please use MorganGenerator\n",
      "[19:58:00] DEPRECATION WARNING: please use MorganGenerator\n",
      "[19:58:00] DEPRECATION WARNING: please use MorganGenerator\n",
      "[19:58:00] DEPRECATION WARNING: please use MorganGenerator\n",
      "[19:58:00] DEPRECATION WARNING: please use MorganGenerator\n",
      "[19:58:00] DEPRECATION WARNING: please use MorganGenerator\n",
      "[19:58:00] DEPRECATION WARNING: please use MorganGenerator\n",
      "[19:58:00] DEPRECATION WARNING: please use MorganGenerator\n",
      "[19:58:00] DEPRECATION WARNING: please use MorganGenerator\n",
      "[19:58:00] DEPRECATION WARNING: please use MorganGenerator\n",
      "[19:58:00] DEPRECATION WARNING: please use MorganGenerator\n",
      "[19:58:00] DEPRECATION WARNING: please use MorganGenerator\n",
      "[19:58:00] DEPRECATION WARNING: please use MorganGenerator\n",
      "[19:58:00] DEPRECATION WARNING: please use MorganGenerator\n",
      "[19:58:00] DEPRECATION WARNING: please use MorganGenerator\n",
      "[19:58:00] DEPRECATION WARNING: please use MorganGenerator\n",
      "[19:58:00] DEPRECATION WARNING: please use MorganGenerator\n",
      "[19:58:00] DEPRECATION WARNING: please use MorganGenerator\n",
      "[19:58:00] DEPRECATION WARNING: please use MorganGenerator\n",
      "[19:58:00] DEPRECATION WARNING: please use MorganGenerator\n",
      "[19:58:00] DEPRECATION WARNING: please use MorganGenerator\n",
      "[19:58:00] DEPRECATION WARNING: please use MorganGenerator\n",
      "[19:58:00] DEPRECATION WARNING: please use MorganGenerator\n",
      "[19:58:00] DEPRECATION WARNING: please use MorganGenerator\n",
      "[19:58:00] DEPRECATION WARNING: please use MorganGenerator\n",
      "[19:58:00] DEPRECATION WARNING: please use MorganGenerator\n",
      "[19:58:00] DEPRECATION WARNING: please use MorganGenerator\n",
      "[19:58:00] DEPRECATION WARNING: please use MorganGenerator\n",
      "[19:58:00] DEPRECATION WARNING: please use MorganGenerator\n",
      "[19:58:00] DEPRECATION WARNING: please use MorganGenerator\n",
      "[19:58:00] DEPRECATION WARNING: please use MorganGenerator\n",
      "[19:58:00] DEPRECATION WARNING: please use MorganGenerator\n",
      "[19:58:00] DEPRECATION WARNING: please use MorganGenerator\n",
      "[19:58:00] DEPRECATION WARNING: please use MorganGenerator\n",
      "[19:58:00] DEPRECATION WARNING: please use MorganGenerator\n",
      "[19:58:00] DEPRECATION WARNING: please use MorganGenerator\n",
      "[19:58:00] DEPRECATION WARNING: please use MorganGenerator\n",
      "[19:58:00] DEPRECATION WARNING: please use MorganGenerator\n",
      "[19:58:00] DEPRECATION WARNING: please use MorganGenerator\n",
      "[19:58:00] DEPRECATION WARNING: please use MorganGenerator\n",
      "[19:58:00] DEPRECATION WARNING: please use MorganGenerator\n",
      "[19:58:00] DEPRECATION WARNING: please use MorganGenerator\n",
      "[19:58:00] DEPRECATION WARNING: please use MorganGenerator\n",
      "[19:58:00] DEPRECATION WARNING: please use MorganGenerator\n",
      "[19:58:00] DEPRECATION WARNING: please use MorganGenerator\n",
      "[19:58:00] DEPRECATION WARNING: please use MorganGenerator\n",
      "[19:58:00] DEPRECATION WARNING: please use MorganGenerator\n",
      "[19:58:00] DEPRECATION WARNING: please use MorganGenerator\n",
      "[19:58:00] DEPRECATION WARNING: please use MorganGenerator\n",
      "[19:58:00] DEPRECATION WARNING: please use MorganGenerator\n",
      "[19:58:00] DEPRECATION WARNING: please use MorganGenerator\n",
      "[19:58:00] DEPRECATION WARNING: please use MorganGenerator\n",
      "[19:58:00] DEPRECATION WARNING: please use MorganGenerator\n",
      "[19:58:00] DEPRECATION WARNING: please use MorganGenerator\n",
      "[19:58:00] DEPRECATION WARNING: please use MorganGenerator\n",
      "[19:58:00] DEPRECATION WARNING: please use MorganGenerator\n",
      "[19:58:00] DEPRECATION WARNING: please use MorganGenerator\n",
      "[19:58:00] DEPRECATION WARNING: please use MorganGenerator\n",
      "[19:58:00] DEPRECATION WARNING: please use MorganGenerator\n",
      "[19:58:00] DEPRECATION WARNING: please use MorganGenerator\n",
      "[19:58:00] DEPRECATION WARNING: please use MorganGenerator\n",
      "[19:58:00] DEPRECATION WARNING: please use MorganGenerator\n",
      "[19:58:00] DEPRECATION WARNING: please use MorganGenerator\n",
      "[19:58:00] DEPRECATION WARNING: please use MorganGenerator\n",
      "[19:58:00] DEPRECATION WARNING: please use MorganGenerator\n",
      "[19:58:00] DEPRECATION WARNING: please use MorganGenerator\n",
      "[19:58:00] DEPRECATION WARNING: please use MorganGenerator\n",
      "[19:58:00] DEPRECATION WARNING: please use MorganGenerator\n",
      "[19:58:00] DEPRECATION WARNING: please use MorganGenerator\n",
      "[19:58:00] DEPRECATION WARNING: please use MorganGenerator\n",
      "[19:58:00] DEPRECATION WARNING: please use MorganGenerator\n",
      "[19:58:00] DEPRECATION WARNING: please use MorganGenerator\n",
      "[19:58:00] DEPRECATION WARNING: please use MorganGenerator\n",
      "[19:58:00] DEPRECATION WARNING: please use MorganGenerator\n",
      "[19:58:00] DEPRECATION WARNING: please use MorganGenerator\n",
      "[19:58:00] DEPRECATION WARNING: please use MorganGenerator\n",
      "[19:58:00] DEPRECATION WARNING: please use MorganGenerator\n",
      "[19:58:00] DEPRECATION WARNING: please use MorganGenerator\n",
      "[19:58:00] DEPRECATION WARNING: please use MorganGenerator\n",
      "[19:58:00] DEPRECATION WARNING: please use MorganGenerator\n",
      "[19:58:00] DEPRECATION WARNING: please use MorganGenerator\n",
      "[19:58:00] DEPRECATION WARNING: please use MorganGenerator\n",
      "[19:58:00] DEPRECATION WARNING: please use MorganGenerator\n",
      "[19:58:00] DEPRECATION WARNING: please use MorganGenerator\n",
      "[19:58:00] DEPRECATION WARNING: please use MorganGenerator\n",
      "[19:58:00] DEPRECATION WARNING: please use MorganGenerator\n",
      "[19:58:00] DEPRECATION WARNING: please use MorganGenerator\n",
      "[19:58:00] DEPRECATION WARNING: please use MorganGenerator\n",
      "[19:58:00] DEPRECATION WARNING: please use MorganGenerator\n",
      "[19:58:00] DEPRECATION WARNING: please use MorganGenerator\n",
      "[19:58:00] DEPRECATION WARNING: please use MorganGenerator\n",
      "[19:58:00] DEPRECATION WARNING: please use MorganGenerator\n",
      "[19:58:00] DEPRECATION WARNING: please use MorganGenerator\n",
      "[19:58:00] DEPRECATION WARNING: please use MorganGenerator\n",
      "[19:58:00] DEPRECATION WARNING: please use MorganGenerator\n",
      "[19:58:00] DEPRECATION WARNING: please use MorganGenerator\n",
      "[19:58:00] DEPRECATION WARNING: please use MorganGenerator\n",
      "[19:58:00] DEPRECATION WARNING: please use MorganGenerator\n",
      "[19:58:00] DEPRECATION WARNING: please use MorganGenerator\n",
      "[19:58:00] DEPRECATION WARNING: please use MorganGenerator\n",
      "[19:58:00] DEPRECATION WARNING: please use MorganGenerator\n",
      "[19:58:00] DEPRECATION WARNING: please use MorganGenerator\n",
      "[19:58:00] DEPRECATION WARNING: please use MorganGenerator\n",
      "[19:58:00] DEPRECATION WARNING: please use MorganGenerator\n",
      "[19:58:00] DEPRECATION WARNING: please use MorganGenerator\n",
      "[19:58:00] DEPRECATION WARNING: please use MorganGenerator\n",
      "[19:58:00] DEPRECATION WARNING: please use MorganGenerator\n",
      "[19:58:00] DEPRECATION WARNING: please use MorganGenerator\n",
      "[19:58:00] DEPRECATION WARNING: please use MorganGenerator\n",
      "[19:58:00] DEPRECATION WARNING: please use MorganGenerator\n",
      "[19:58:00] DEPRECATION WARNING: please use MorganGenerator\n",
      "[19:58:00] DEPRECATION WARNING: please use MorganGenerator\n",
      "[19:58:00] DEPRECATION WARNING: please use MorganGenerator\n",
      "[19:58:00] DEPRECATION WARNING: please use MorganGenerator\n",
      "[19:58:00] DEPRECATION WARNING: please use MorganGenerator\n",
      "[19:58:00] DEPRECATION WARNING: please use MorganGenerator\n",
      "[19:58:00] DEPRECATION WARNING: please use MorganGenerator\n",
      "[19:58:00] DEPRECATION WARNING: please use MorganGenerator\n",
      "[19:58:00] DEPRECATION WARNING: please use MorganGenerator\n",
      "[19:58:00] DEPRECATION WARNING: please use MorganGenerator\n",
      "[19:58:00] DEPRECATION WARNING: please use MorganGenerator\n",
      "[19:58:00] DEPRECATION WARNING: please use MorganGenerator\n",
      "[19:58:00] DEPRECATION WARNING: please use MorganGenerator\n",
      "[19:58:00] DEPRECATION WARNING: please use MorganGenerator\n",
      "[19:58:00] DEPRECATION WARNING: please use MorganGenerator\n",
      "[19:58:00] DEPRECATION WARNING: please use MorganGenerator\n",
      "[19:58:00] DEPRECATION WARNING: please use MorganGenerator\n",
      "[19:58:00] DEPRECATION WARNING: please use MorganGenerator\n",
      "[19:58:00] DEPRECATION WARNING: please use MorganGenerator\n",
      "[19:58:00] DEPRECATION WARNING: please use MorganGenerator\n",
      "[19:58:00] DEPRECATION WARNING: please use MorganGenerator\n",
      "[19:58:00] DEPRECATION WARNING: please use MorganGenerator\n",
      "[19:58:00] DEPRECATION WARNING: please use MorganGenerator\n",
      "[19:58:00] DEPRECATION WARNING: please use MorganGenerator\n",
      "[19:58:00] DEPRECATION WARNING: please use MorganGenerator\n",
      "[19:58:00] DEPRECATION WARNING: please use MorganGenerator\n",
      "[19:58:00] DEPRECATION WARNING: please use MorganGenerator\n",
      "[19:58:00] DEPRECATION WARNING: please use MorganGenerator\n",
      "[19:58:00] DEPRECATION WARNING: please use MorganGenerator\n",
      "[19:58:00] DEPRECATION WARNING: please use MorganGenerator\n",
      "[19:58:00] DEPRECATION WARNING: please use MorganGenerator\n",
      "[19:58:00] DEPRECATION WARNING: please use MorganGenerator\n",
      "[19:58:00] DEPRECATION WARNING: please use MorganGenerator\n",
      "[19:58:00] DEPRECATION WARNING: please use MorganGenerator\n",
      "[19:58:00] DEPRECATION WARNING: please use MorganGenerator\n",
      "[19:58:00] DEPRECATION WARNING: please use MorganGenerator\n",
      "[19:58:00] DEPRECATION WARNING: please use MorganGenerator\n",
      "[19:58:00] DEPRECATION WARNING: please use MorganGenerator\n",
      "[19:58:00] DEPRECATION WARNING: please use MorganGenerator\n",
      "[19:58:00] DEPRECATION WARNING: please use MorganGenerator\n",
      "[19:58:00] DEPRECATION WARNING: please use MorganGenerator\n",
      "[19:58:00] DEPRECATION WARNING: please use MorganGenerator\n",
      "[19:58:00] DEPRECATION WARNING: please use MorganGenerator\n",
      "[19:58:00] DEPRECATION WARNING: please use MorganGenerator\n",
      "[19:58:00] DEPRECATION WARNING: please use MorganGenerator\n",
      "[19:58:00] DEPRECATION WARNING: please use MorganGenerator\n",
      "[19:58:00] DEPRECATION WARNING: please use MorganGenerator\n",
      "[19:58:00] DEPRECATION WARNING: please use MorganGenerator\n",
      "[19:58:00] DEPRECATION WARNING: please use MorganGenerator\n"
     ]
    },
    {
     "data": {
      "text/plain": [
       "(264, 1025)"
      ]
     },
     "execution_count": 10,
     "metadata": {},
     "output_type": "execute_result"
    }
   ],
   "source": [
    "#Call the function to generate the fingerprints\n",
    "df3 = MoleculeGen(7, df2)\n",
    "\n",
    "#drop the smile columns since this will  not be passed to the machine learning model\n",
    "df3 = df3.drop(['SMILES Representation'], axis = 1)\n",
    "#denote the target heading\n",
    "target = ['-log CMC']\n",
    "#define all other headings as the input features for the model\n",
    "features = (list(set(list(df3.columns))-set(target)))\n",
    "#get the values of the input features and output features\n",
    "x_data = df3[features].values\n",
    "y_data = df3[target].values\n",
    "x_data.shape"
   ]
  },
  {
   "cell_type": "code",
   "execution_count": 11,
   "id": "306120a2",
   "metadata": {},
   "outputs": [
    {
     "name": "stdout",
     "output_type": "stream",
     "text": [
      "(211, 1025)\n",
      "(53, 1025)\n"
     ]
    }
   ],
   "source": [
    "# Import scikit learn classifier and regressor.\n",
    "import sklearn\n",
    "from sklearn.neural_network import MLPClassifier\n",
    "from sklearn.neural_network import MLPRegressor\n",
    "\n",
    "# Tool for splitting sets. Needed to split training and test data\n",
    "from sklearn.model_selection import train_test_split\n",
    "\n",
    "# Module to normalized data\n",
    "from sklearn import preprocessing\n",
    "\n",
    "# Tool for calculation of the mean square error (mse)\n",
    "from sklearn.metrics import mean_squared_error\n",
    "\n",
    "# Tool for calculating R2 score\n",
    "from sklearn.metrics import r2_score\n",
    "\n",
    "# Split data for training and testing. In this example, the splits is 80:20\n",
    "x_train, x_test, y_train, y_test = train_test_split(x_data,y_data,test_size=0.2,random_state=5,shuffle=True)\n",
    "\n",
    "print(x_train.shape)\n",
    "print(x_test.shape)"
   ]
  },
  {
   "cell_type": "code",
   "execution_count": 12,
   "id": "00db2f96",
   "metadata": {
    "scrolled": true
   },
   "outputs": [
    {
     "data": {
      "text/plain": [
       "(211, 1)"
      ]
     },
     "execution_count": 12,
     "metadata": {},
     "output_type": "execute_result"
    }
   ],
   "source": [
    "#Using Standard Scaler to scale the data\n",
    "from sklearn.preprocessing import StandardScaler\n",
    "\n",
    "scaler = StandardScaler()\n",
    "\n",
    "x_train_scaled = scaler.fit_transform(x_train)\n",
    "x_test_scaled = scaler.transform(x_test)\n",
    "x_data_scaled = scaler.fit_transform(x_data)\n",
    "y_train_scaled = scaler.fit_transform(y_train)\n",
    "y_test_scaled = scaler.transform(y_test)\n",
    "y_data_scaled = scaler.fit_transform(y_data)\n",
    "\n",
    "\n",
    "y_train_scaled.shape"
   ]
  },
  {
   "cell_type": "code",
   "execution_count": 13,
   "id": "a607ad4f",
   "metadata": {},
   "outputs": [],
   "source": [
    "#x_train[0] == x_train[1]"
   ]
  },
  {
   "cell_type": "code",
   "execution_count": 14,
   "id": "1e350835",
   "metadata": {},
   "outputs": [
    {
     "name": "stdout",
     "output_type": "stream",
     "text": [
      "The R2 after fitting is: 0.95936\n"
     ]
    }
   ],
   "source": [
    "\n",
    "# Create an Artificial Neural Network architecture \n",
    "clf = MLPRegressor(hidden_layer_sizes=(4),solver='lbfgs',alpha=1e-5,random_state=5,max_iter=2000)\n",
    "\n",
    "# Fit data to the ANN\n",
    "clf.fit(x_train_scaled,y_train_scaled.ravel())\n",
    "r2 = clf.score(x_train_scaled,y_train_scaled.ravel())\n",
    "\n",
    "print('The R2 after fitting is: {0:6.5f}'.format(r2))"
   ]
  },
  {
   "cell_type": "code",
   "execution_count": 15,
   "id": "84856816",
   "metadata": {},
   "outputs": [
    {
     "name": "stdout",
     "output_type": "stream",
     "text": [
      "0.08754247259996657\n"
     ]
    }
   ],
   "source": [
    "#MSE / RRMSE of Data\n",
    "predict_train_set = clf.predict(x_train_scaled)\n",
    "predict_test_set = clf.predict(x_test_scaled)\n",
    "mse = mean_squared_error(y_data_scaled, clf.predict(x_data_scaled))\n",
    "\n",
    "print(mse)"
   ]
  },
  {
   "cell_type": "code",
   "execution_count": 16,
   "id": "bed6fc4d",
   "metadata": {},
   "outputs": [
    {
     "data": {
      "text/plain": [
       "0.32188274373867004"
      ]
     },
     "execution_count": 16,
     "metadata": {},
     "output_type": "execute_result"
    }
   ],
   "source": [
    "#Test dataset MSE\n",
    "mean_squared_error(y_test_scaled, predict_test_set)"
   ]
  },
  {
   "cell_type": "code",
   "execution_count": 17,
   "id": "3e655c8e",
   "metadata": {},
   "outputs": [
    {
     "data": {
      "text/plain": [
       "0.04063784302495499"
      ]
     },
     "execution_count": 17,
     "metadata": {},
     "output_type": "execute_result"
    }
   ],
   "source": [
    "\n",
    "#Training dataset MSE\n",
    "mean_squared_error(y_train_scaled, predict_train_set)"
   ]
  },
  {
   "cell_type": "code",
   "execution_count": 23,
   "id": "68179fc1",
   "metadata": {},
   "outputs": [
    {
     "data": {
      "image/png": "[encoded data removed]",
      "text/plain": [
       "<Figure size 640x480 with 1 Axes>"
      ]
     },
     "metadata": {},
     "output_type": "display_data"
    },
    {
     "data": {
      "text/plain": [
       "<Figure size 5940x5400 with 0 Axes>"
      ]
     },
     "metadata": {},
     "output_type": "display_data"
    }
   ],
   "source": [
    "import matplotlib.pyplot as plt\n",
    "from matplotlib.pyplot import figure\n",
    "\n",
    "#plt.figure(figsize=(12,8))\n",
    "ax1=plt.subplot(1, 1, 1)\n",
    "\n",
    "ax1.plot(y_train_scaled,predict_train_set,marker='o',ls='None',mec='k',mfc='#FF908C',label='Training Dataset')\n",
    "ax1.plot(y_test_scaled,predict_test_set,marker='o',ls='None',mec='k',mfc='#80CAFF',label='Test Dataset')\n",
    "ax1.legend()\n",
    "\n",
    "\n",
    "graph_size = 3\n",
    "\n",
    "\n",
    "ax1.plot([0,graph_size],[0,graph_size],'-k',lw=1)\n",
    "ax1.plot([0,graph_size],[0,graph_size*0.9],'-r',lw=0.5)\n",
    "ax1.plot([0,graph_size],[0,graph_size*1.1],'-r',lw=0.5)\n",
    "ax1.plot([0,graph_size],[0,graph_size*0.8],'-b',lw=0.5)\n",
    "ax1.plot([0,graph_size],[0,graph_size*1.2],'-b',lw=0.5)\n",
    "\n",
    "\n",
    "ax1.set_xlim([0,graph_size])\n",
    "ax1.set_ylim([0,graph_size])\n",
    "ax1.set_xlabel('-log CMC (Actual)') #size=18, if you want to change font size\n",
    "ax1.set_ylabel('-log CMC (Predicted)')\n",
    "\n",
    "\n",
    "#ax1.grid()\n",
    "plt.gca().set_aspect('equal', adjustable='box')\n",
    "\n",
    "## Figure property \n",
    "figure(figsize=(3.3, 3), dpi=1800) # for figsize: width, height in inches\n",
    "#ax1.autolayout : true # for labels not being cut out\n",
    "\n",
    "## Axes\n",
    "ax1.titlesize : 8\n",
    "ax1.labelsize : 8\n"
   ]
  },
  {
   "cell_type": "code",
   "execution_count": 19,
   "id": "69410111",
   "metadata": {},
   "outputs": [
    {
     "name": "stdout",
     "output_type": "stream",
     "text": [
      "50.943396226415096\n",
      "No. of predictions with accuracy lower than 80%: 27\n",
      "Size of test dataset: 53\n"
     ]
    }
   ],
   "source": [
    "#Finding number of points for than 20% inaccurate\n",
    "\n",
    "iterations = y_test_scaled.size\n",
    "\n",
    "log_CMC_list = []\n",
    "\n",
    "for i in range(0,iterations):\n",
    "    q = predict_test_set[i]/y_test_scaled[i]\n",
    "    if q > 1.2 or q < 0.8:\n",
    "        log_CMC_list.append(y_test_scaled[i])\n",
    "    i += 1\n",
    "\n",
    "print(len(log_CMC_list)*100/iterations)\n",
    "print('No. of predictions with accuracy lower than 80%:', len(log_CMC_list))\n",
    "print('Size of test dataset:', iterations)"
   ]
  },
  {
   "cell_type": "code",
   "execution_count": null,
   "id": "6cd67b19",
   "metadata": {},
   "outputs": [],
   "source": []
  }
 ],
 "metadata": {
  "kernelspec": {
   "display_name": "Python 3 (ipykernel)",
   "language": "python",
   "name": "python3"
  },
  "language_info": {
   "codemirror_mode": {
    "name": "ipython",
    "version": 3
   },
   "file_extension": ".py",
   "mimetype": "text/x-python",
   "name": "python",
   "nbconvert_exporter": "python",
   "pygments_lexer": "ipython3",
   "version": "3.11.5"
  }
 },
 "nbformat": 4,
 "nbformat_minor": 5
}
